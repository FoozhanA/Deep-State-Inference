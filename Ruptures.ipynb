{
 "cells": [
  {
   "cell_type": "code",
   "execution_count": null,
   "metadata": {},
   "outputs": [],
   "source": [
    "import datetime\n",
    "import os\n",
    "try:\n",
    "    from tqdm import notebook as tqdm\n",
    "except ImportError:\n",
    "    tqdm = None\n",
    "    \n",
    "import pandas as pd\n",
    "import tensorflow as tf\n",
    "import numpy as np\n",
    "import ruptures\n",
    "from metrics import find_change_indices\n",
    "\n",
    "%matplotlib inline\n",
    "%load_ext tensorboard\n",
    "%load_ext autoreload\n",
    "%autoreload 2\n",
    "\n",
    "import dataset_ops\n",
    "\n",
    "pd.set_option('display.max_columns', None)  # show all columns\n",
    "GPUs = tf.config.list_physical_devices('GPU')\n",
    "if GPUs is None or len(GPUs) == 0:\n",
    "    print(\"WARNING: No GPU, all there is is:\")\n",
    "    for device in tf.config.list_physical_devices():\n",
    "        print(f'- {device}')\n",
    "else:\n",
    "    for gpu in GPUs:\n",
    "        tf.config.experimental.set_memory_growth(gpu, True)\n",
    "        print(\"Initialized\", gpu)\n",
    "\n",
    "dataset_manager = dataset_ops.TestsManager(dataset_dir='./h5', runs_filename='runs.hdf')\n",
    "all_runs = dataset_manager.get_all_available_tests()\n",
    "selected_runs = all_runs.loc[(all_runs['Test Length'] > 200) & (all_runs['Test Length'] < 20000)]\n",
    "\n",
    "inputs = ('SpeedFts', 'Pitch', 'Roll', 'Yaw', 'current_altitude', )\n",
    "outputs= ('elev', 'ai', 'rdr', 'throttle', 'Flaps')\n",
    "\n",
    "# max_length = selected_runs['Test Length'].max()\n",
    "# max_length = 18000 \n",
    "\n",
    "# dataset_manager.preload_data(selected_runs, max_length=max_length, features=inputs + outputs)\n",
    "# tfdataset = dataset_ops.TensorflowDataset(dataset_manager)\n",
    "# dataset = tfdataset.get_dataset(selected_runs, batch_size=25, features=inputs+outputs, max_length=max_length)\n",
    "\n",
    "dataset = dataset_manager.preload_data(selected_runs, features=inputs+outputs)\n",
    "\n",
    "augmented_dataset = []\n",
    "for i, data in enumerate(dataset):\n",
    "    l = data[2].to_numpy()\n",
    "    ind = find_change_indices(tf.constant(l)).numpy()\n",
    "    changes = np.concatenate((np.expand_dims(ind, 1), np.expand_dims(l[ind-1], 1), np.expand_dims(l[ind], 1)), 1)\n",
    "    toappend = data[1], ind, changes\n",
    "    \n",
    "    augmented_dataset.append(toappend)"
   ]
  },
  {
   "cell_type": "code",
   "execution_count": null,
   "outputs": [],
   "source": [
    "def precision_recall(changes_true, changes_pred, tolerance):\n",
    "    if tf.shape(changes_true)[0] == 0 and tf.shape(changes_pred)[0] == 0:\n",
    "        true_positive = 1\n",
    "        false_positive = 0\n",
    "    else:\n",
    "        distances = tf.abs(\n",
    "            tf.reshape(changes_pred, [-1, 1]) - \n",
    "            tf.reshape(changes_true, [1, -1])\n",
    "        )  # axis0 = pred, axis1 = true\n",
    "        false_positive = tf.reduce_sum(tf.cast(tf.reduce_min(distances, axis=1) > tolerance, 'int32'))\n",
    "        true_positive = tf.reduce_sum(tf.cast(tf.reduce_min(distances, axis=1) <= tolerance, 'int32'))\n",
    "    \n",
    "    if tf.shape(changes_pred)[0] == 0:\n",
    "        false_negatives = tf.cast(tf.shape(changes_true)[0], 'int32')\n",
    "    else:\n",
    "        min_distances = tf.reduce_min(tf.abs(\n",
    "            tf.reshape(changes_pred, [-1, 1]) - \n",
    "            tf.reshape(changes_true, [1, -1])\n",
    "        ), axis=0)\n",
    "\n",
    "        false_negatives = tf.reduce_sum(tf.cast(min_distances > tolerance, 'int32'))\n",
    "    \n",
    "    precision = tf.math.divide_no_nan(tf.cast(true_positive, 'float32'), tf.cast(true_positive + false_positive, 'float32'))\n",
    "    recall = tf.math.divide_no_nan(tf.cast(true_positive, 'float32'), tf.cast(true_positive + false_negatives, 'float32'))\n",
    "    \n",
    "    # print(changes_true, changes_pred)\n",
    "    # print(true_positive, false_negatives, false_positive)\n",
    "    # \n",
    "    # return tf.stack((precision, recall))\n",
    "    return (precision, recall)"
   ],
   "metadata": {
    "collapsed": false,
    "pycharm": {
     "name": "#%%\n"
    }
   }
  },
  {
   "cell_type": "code",
   "execution_count": null,
   "outputs": [],
   "source": [
    "tau = [5, 15, 25]\n",
    "\n",
    "results_header = []\n",
    "for _tau in tau:\n",
    "    for type in 'precision', 'recall':\n",
    "        results_header.append(f'{type}_{_tau}')\n",
    "\n",
    "session_start = datetime.datetime.now().strftime(\"%Y%m%d-%H%M%S\")\n",
    "# session_start = '20200404-233041'\n",
    "file_name = f'ruptures/{session_start}.csv'\n",
    "# file_name = 'ruptures/all.csv'\n",
    "\n",
    "if os.path.exists(file_name):\n",
    "    results = pd.read_csv(file_name, index_col=0)\n",
    "else:\n",
    "    results = pd.DataFrame(columns=['method_name', 'model_type', 'penalty'] + results_header)"
   ],
   "metadata": {
    "collapsed": false,
    "pycharm": {
     "name": "#%%\n"
    }
   }
  },
  {
   "cell_type": "code",
   "execution_count": null,
   "outputs": [],
   "source": [
    "from joblib import Parallel, delayed\n",
    "\n",
    "def evaluate(method_name, model_type, penalty, method_class, data=augmented_dataset):\n",
    "    def map_func(datum):\n",
    "        input, true_changes, _ = datum\n",
    "        model = method_class(model=model_type)\n",
    "        prediction = model.fit_predict(input.to_numpy(), pen=penalty)\n",
    "\n",
    "        cum = []\n",
    "        for _tau in tau:\n",
    "            prec, recall = precision_recall(true_changes, prediction, _tau)\n",
    "            cum += [float(prec),float(recall)]\n",
    "        # print('Pred:', prediction, '\\nTrue:', true_changes,'\\nscore:', cum, '\\n--')\n",
    "        return tuple(cum)\n",
    "\n",
    "    run_results = Parallel(n_jobs=8, prefer='threads')(delayed(map_func)(datum) for datum in data)\n",
    "    # results = [map_func(datum) for datum in data]\n",
    "\n",
    "    run_results = pd.DataFrame(run_results, columns=results_header)\n",
    "    run_results['method_name'], run_results['model_type'], run_results['penalty'] = method_name, model_type, penalty\n",
    "\n",
    "    print('Results mean:')\n",
    "    print(run_results.mean(axis=0) * 100)\n",
    "    \n",
    "    return run_results\n"
   ],
   "metadata": {
    "collapsed": false,
    "pycharm": {
     "name": "#%%\n"
    }
   }
  },
  {
   "cell_type": "code",
   "execution_count": 52,
   "outputs": [
    {
     "data": {
      "text/plain": "[('window', 'normal', 100, ruptures.detection.window.Window),\n ('window', 'normal', 500, ruptures.detection.window.Window),\n ('window', 'normal', 1000, ruptures.detection.window.Window),\n ('bottomup', 'normal', 100, ruptures.detection.bottomup.BottomUp),\n ('bottomup', 'normal', 500, ruptures.detection.bottomup.BottomUp),\n ('bottomup', 'normal', 1000, ruptures.detection.bottomup.BottomUp)]"
     },
     "execution_count": 52,
     "metadata": {},
     "output_type": "execute_result"
    }
   ],
   "source": [
    "configurations = list()\n",
    "# for model_type in [\"l2\", \"l1\", \"rbf\", \"linear\", \"normal\", \"ar\", \"rank\"]:\n",
    "# for model_type in [\"linear\", \"rank\"]:\n",
    "for model_type in [\"normal\"]:\n",
    "    for method_name, method_class in (\n",
    "        # ('window', ruptures.detection.Window),\n",
    "        # ('bottomup', ruptures.BottomUp),\n",
    "        ('exact', ruptures.Pelt)\n",
    "    ):\n",
    "        for penalty in (100, 500, 1000):\n",
    "            configurations.append((\n",
    "                method_name, \n",
    "                model_type, \n",
    "                penalty,\n",
    "                method_class,\n",
    "            ))\n",
    "\n",
    "configurations"
   ],
   "metadata": {
    "collapsed": false,
    "pycharm": {
     "name": "#%%\n"
    }
   }
  },
  {
   "cell_type": "code",
   "execution_count": 53,
   "outputs": [
    {
     "data": {
      "text/plain": "HBox(children=(FloatProgress(value=1.0, bar_style='info', max=1.0), HTML(value='')))",
      "application/vnd.jupyter.widget-view+json": {
       "version_major": 2,
       "version_minor": 0,
       "model_id": "9e7d285a196242558a748de297618888"
      }
     },
     "metadata": {},
     "output_type": "display_data"
    },
    {
     "name": "stdout",
     "output_type": "stream",
     "text": [
      "\n"
     ]
    }
   ],
   "source": [
    "for configuration in (tqdm.tqdm(configurations) if tqdm else configurations):\n",
    "    try:\n",
    "        print(configuration[:-1])\n",
    "        run_results = evaluate(*configuration)\n",
    "        results = results.append(run_results, ignore_index=True)\n",
    "        results.to_csv(file_name)\n",
    "    except:\n",
    "        print('Failed')"
   ],
   "metadata": {
    "collapsed": false,
    "pycharm": {
     "name": "#%% \n"
    }
   }
  },
  {
   "cell_type": "code",
   "execution_count": 60,
   "outputs": [
    {
     "data": {
      "text/plain": "                                     F1_5      F1_15      F1_25\nmethod_name model_type penalty                                 \nbottomup    l1         100      14.294108  28.834491  39.016098\n                       500      14.538393  30.525945  40.449982\n                       1000     14.268346  30.769210  39.226578\n            l2         100      11.917485  24.437654  33.808718\n                       500      13.524666  27.415726  37.700742\n                       1000     14.760537  28.981596  39.375014\n            linear     100      47.829911  57.600610  60.329068\n                       500      43.810534  56.277822  60.465320\n                       1000     43.418841  55.956824  60.267122\n            rank       100      23.905744  32.281255  37.338147\n                       500      29.102099  39.344883  46.391567\n                       1000     31.331233  41.746958  47.829194\nwindow      l1         100      20.987001  24.950133  31.619034\n                       500      23.138282  26.428455  33.452185\n                       1000     24.150142  27.103339  34.352818\n            l2         100      18.999774  19.977315  24.781508\n                       500      19.323866  20.401364  25.281608\n                       1000     19.609617  20.729168  25.615769\n            linear     100      28.802822  34.946028  43.219232\n                       500      28.834803  35.310985  43.509038\n                       1000     29.211921  35.378197  43.241766",
      "text/html": "<div>\n<style scoped>\n    .dataframe tbody tr th:only-of-type {\n        vertical-align: middle;\n    }\n\n    .dataframe tbody tr th {\n        vertical-align: top;\n    }\n\n    .dataframe thead th {\n        text-align: right;\n    }\n</style>\n<table border=\"1\" class=\"dataframe\">\n  <thead>\n    <tr style=\"text-align: right;\">\n      <th></th>\n      <th></th>\n      <th></th>\n      <th>F1_5</th>\n      <th>F1_15</th>\n      <th>F1_25</th>\n    </tr>\n    <tr>\n      <th>method_name</th>\n      <th>model_type</th>\n      <th>penalty</th>\n      <th></th>\n      <th></th>\n      <th></th>\n    </tr>\n  </thead>\n  <tbody>\n    <tr>\n      <th rowspan=\"12\" valign=\"top\">bottomup</th>\n      <th rowspan=\"3\" valign=\"top\">l1</th>\n      <th>100</th>\n      <td>14.294108</td>\n      <td>28.834491</td>\n      <td>39.016098</td>\n    </tr>\n    <tr>\n      <th>500</th>\n      <td>14.538393</td>\n      <td>30.525945</td>\n      <td>40.449982</td>\n    </tr>\n    <tr>\n      <th>1000</th>\n      <td>14.268346</td>\n      <td>30.769210</td>\n      <td>39.226578</td>\n    </tr>\n    <tr>\n      <th rowspan=\"3\" valign=\"top\">l2</th>\n      <th>100</th>\n      <td>11.917485</td>\n      <td>24.437654</td>\n      <td>33.808718</td>\n    </tr>\n    <tr>\n      <th>500</th>\n      <td>13.524666</td>\n      <td>27.415726</td>\n      <td>37.700742</td>\n    </tr>\n    <tr>\n      <th>1000</th>\n      <td>14.760537</td>\n      <td>28.981596</td>\n      <td>39.375014</td>\n    </tr>\n    <tr>\n      <th rowspan=\"3\" valign=\"top\">linear</th>\n      <th>100</th>\n      <td>47.829911</td>\n      <td>57.600610</td>\n      <td>60.329068</td>\n    </tr>\n    <tr>\n      <th>500</th>\n      <td>43.810534</td>\n      <td>56.277822</td>\n      <td>60.465320</td>\n    </tr>\n    <tr>\n      <th>1000</th>\n      <td>43.418841</td>\n      <td>55.956824</td>\n      <td>60.267122</td>\n    </tr>\n    <tr>\n      <th rowspan=\"3\" valign=\"top\">rank</th>\n      <th>100</th>\n      <td>23.905744</td>\n      <td>32.281255</td>\n      <td>37.338147</td>\n    </tr>\n    <tr>\n      <th>500</th>\n      <td>29.102099</td>\n      <td>39.344883</td>\n      <td>46.391567</td>\n    </tr>\n    <tr>\n      <th>1000</th>\n      <td>31.331233</td>\n      <td>41.746958</td>\n      <td>47.829194</td>\n    </tr>\n    <tr>\n      <th rowspan=\"9\" valign=\"top\">window</th>\n      <th rowspan=\"3\" valign=\"top\">l1</th>\n      <th>100</th>\n      <td>20.987001</td>\n      <td>24.950133</td>\n      <td>31.619034</td>\n    </tr>\n    <tr>\n      <th>500</th>\n      <td>23.138282</td>\n      <td>26.428455</td>\n      <td>33.452185</td>\n    </tr>\n    <tr>\n      <th>1000</th>\n      <td>24.150142</td>\n      <td>27.103339</td>\n      <td>34.352818</td>\n    </tr>\n    <tr>\n      <th rowspan=\"3\" valign=\"top\">l2</th>\n      <th>100</th>\n      <td>18.999774</td>\n      <td>19.977315</td>\n      <td>24.781508</td>\n    </tr>\n    <tr>\n      <th>500</th>\n      <td>19.323866</td>\n      <td>20.401364</td>\n      <td>25.281608</td>\n    </tr>\n    <tr>\n      <th>1000</th>\n      <td>19.609617</td>\n      <td>20.729168</td>\n      <td>25.615769</td>\n    </tr>\n    <tr>\n      <th rowspan=\"3\" valign=\"top\">linear</th>\n      <th>100</th>\n      <td>28.802822</td>\n      <td>34.946028</td>\n      <td>43.219232</td>\n    </tr>\n    <tr>\n      <th>500</th>\n      <td>28.834803</td>\n      <td>35.310985</td>\n      <td>43.509038</td>\n    </tr>\n    <tr>\n      <th>1000</th>\n      <td>29.211921</td>\n      <td>35.378197</td>\n      <td>43.241766</td>\n    </tr>\n  </tbody>\n</table>\n</div>"
     },
     "execution_count": 60,
     "metadata": {},
     "output_type": "execute_result"
    }
   ],
   "source": [
    "for _tau in tau:\n",
    "    results[f'F1_{_tau}'] = 2 * (results[f'precision_{_tau}']*results[f'recall_{_tau}']) / (results[f'precision_{_tau}']+results[f'recall_{_tau}'])\n",
    "\n",
    "\n",
    "F1_columns = [c for c in results.columns if 'F1' in c]\n",
    "results.groupby(by=['method_name', 'model_type', 'penalty'])[F1_columns].aggregate('mean') * 100\n"
   ],
   "metadata": {
    "collapsed": false,
    "pycharm": {
     "name": "#%%\n"
    }
   }
  },
  {
   "cell_type": "code",
   "execution_count": 58,
   "outputs": [],
   "source": [
    "results.drop(columns=F1_columns).to_csv(file_name)"
   ],
   "metadata": {
    "collapsed": false,
    "pycharm": {
     "name": "#%%\n"
    }
   }
  }
 ],
 "metadata": {
  "kernelspec": {
   "name": "python36964bitmpvenvc0be145795914919ad5cb1b44742ad1c",
   "language": "python",
   "display_name": "Python 3.6.9 64-bit ('mp': venv)"
  },
  "language_info": {
   "codemirror_mode": {
    "name": "ipython",
    "version": 3
   },
   "file_extension": ".py",
   "mimetype": "text/x-python",
   "name": "python",
   "nbconvert_exporter": "python",
   "pygments_lexer": "ipython3",
   "version": "3.6.9-final"
  }
 },
 "nbformat": 4,
 "nbformat_minor": 2
}